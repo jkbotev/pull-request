{
 "cells": [
  {
   "cell_type": "markdown",
   "metadata": {},
   "source": [
    "This is a program for retrieving all pull requests from the GitHub organization Ramda."
   ]
  },
  {
   "cell_type": "code",
   "execution_count": 22,
   "metadata": {
    "scrolled": false
   },
   "outputs": [
    {
     "name": "stdout",
     "output_type": "stream",
     "text": [
      "Total number of pull requests in the Ramda organization: 1797\n"
     ]
    }
   ],
   "source": [
    "import requests\n",
    "import json\n",
    "import os\n",
    "\n",
    "def getPullRequestsForOrg(organization):\n",
    "    \n",
    "    # Pull request parameters\n",
    "    auth=('user', os.environ.get('GITHUBTOKEN'))\n",
    "    state = 'all'\n",
    "    perPage= '100'\n",
    "    \n",
    "    # For the given organization, get repositories\n",
    "    repoUrl = \"https://api.github.com/orgs/\" +organization+ \"/repos\"\n",
    "    response = requests.get(repoUrl, auth=auth)\n",
    "    \n",
    "    # Check that the response was successful\n",
    "    if response.status_code != requests.codes.ok: \n",
    "        print(\"Repository query unsuccessful: \" + str(response.status_code))\n",
    "        return None\n",
    "    \n",
    "    jsonRepos=response.json() # jsonRepos is a list of dictionaries, where each dictionary represents a repository\n",
    "\n",
    "    pullList = [] # the list of all pull requests, each of which will be a dictionary\n",
    "\n",
    "    # Loop over all repositories for this organization and for each one, get all pull requests\n",
    "    for repo in jsonRepos:\n",
    "        pullUrl = \"https://api.github.com/repos/\" + repo[\"full_name\"] + \"/pulls\"\n",
    "        payLoad = {'state':state,'per_page':perPage} # set parameters for retrieving the pull requests\n",
    "        getPullRequests(pullUrl, payLoad, pullList, auth)\n",
    "        \n",
    "    return pullList \n",
    "    \n",
    "def getPullRequests(pullUrl, params, pullList, auth):\n",
    "\n",
    "    # Initialize the list used for pagination\n",
    "    linkList = []\n",
    "    \n",
    "    # Get the pull requests for this URL\n",
    "    pullResponse = requests.get(pullUrl, params=params, auth=auth)\n",
    "    \n",
    "    # Check that the call to the GitHub API was successful\n",
    "    if pullResponse.status_code != requests.codes.ok:\n",
    "        print(\"Pull request query unsuccessful: \" + str(pullResponse.status_code))\n",
    "        return None\n",
    "\n",
    "    # Turn the response into JSON for parsing\n",
    "    jsonPulls = pullResponse.json()\n",
    "    # Add this set of pulls to the list of found pulls so far\n",
    "    pullList.extend(jsonPulls)\n",
    "        \n",
    "    # Now, if there was more than one page of results, call the API again to get the rest\n",
    "    link = pullResponse.headers.get('link') # the HTTP headers will contain a link (string) if data was returned\n",
    "    if link:\n",
    "        linkList = link.split(',')\n",
    "        # Iterate over the list of links to find the next page, if one is available\n",
    "        for url in linkList:\n",
    "            # If this particular link contains the \"next\" relationship, parse out the URL and call this function again\n",
    "            if 'rel=\"next\"' in url:\n",
    "                nextUrl = url.replace('; rel=\"next\"','')\n",
    "                nextUrl = nextUrl.strip(' <>')\n",
    "                getPullRequests(nextUrl, None, pullList, auth) # No params this time since they are part of the link already\n",
    "\n",
    "                \n",
    "\n",
    "resultList = getPullRequestsForOrg(\"ramda\")\n",
    "\n",
    "if resultList:\n",
    "    print(\"Total number of pull requests in the Ramda organization: \" + str(len(resultList)))\n",
    "else:\n",
    "    print(\"Failure\")"
   ]
  },
  {
   "cell_type": "code",
   "execution_count": 23,
   "metadata": {},
   "outputs": [
    {
     "data": {
      "text/plain": [
       "1797"
      ]
     },
     "execution_count": 23,
     "metadata": {},
     "output_type": "execute_result"
    }
   ],
   "source": [
    "# Act upon the returned list of pull requests here without having to call GitHub again\n",
    "\n",
    "len(resultList)"
   ]
  }
 ],
 "metadata": {
  "kernelspec": {
   "display_name": "Python 3",
   "language": "python",
   "name": "python3"
  },
  "language_info": {
   "codemirror_mode": {
    "name": "ipython",
    "version": 3
   },
   "file_extension": ".py",
   "mimetype": "text/x-python",
   "name": "python",
   "nbconvert_exporter": "python",
   "pygments_lexer": "ipython3",
   "version": "3.7.0"
  }
 },
 "nbformat": 4,
 "nbformat_minor": 2
}
